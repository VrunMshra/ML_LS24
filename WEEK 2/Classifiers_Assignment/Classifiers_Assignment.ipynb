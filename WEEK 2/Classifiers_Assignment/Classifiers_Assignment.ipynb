{
  "cells": [
    {
      "cell_type": "markdown",
      "metadata": {
        "id": "HJM8Y9mh5o4H"
      },
      "source": [
        "#WELCOME\n",
        "In this Assignment, you'll use **Classifier** to predict the output. You are allowed to write/edit between the\n",
        "```# START CODE HERE``` & ```# END CODE HERE``` only.<br>\n",
        "Don't edit the test cells otherwise you'd be failed in the assignment.\n",
        "\n",
        "Upload the ```utils.zip``` file before running the 1st cell.\n",
        "[Demo](https://drive.google.com/file/d/1ebkQR6ikjGottmxa5KL83ZWdjTLvRxbm/view?usp=share_link)\n",
        "\n",
        "**BEST OF LUCK**"
      ]
    },
    {
      "cell_type": "markdown",
      "metadata": {
        "id": "cEl-4aFCkdsB"
      },
      "source": [
        "**RUN THIS CODE TO UNIZP THE REQUIRED FILES**"
      ]
    },
    {
      "cell_type": "code",
      "execution_count": 22,
      "metadata": {
        "colab": {
          "base_uri": "https://localhost:8080/"
        },
        "id": "mCdV1dV8kawl",
        "outputId": "e0a6342b-a94a-4615-bb2f-c639195a60b1"
      },
      "outputs": [
        {
          "name": "stdout",
          "output_type": "stream",
          "text": [
            "Archive:  /content/utils.zip\n",
            "replace ./weather_classification_data.csv? [y]es, [n]o, [A]ll, [N]one, [r]ename: y\n",
            "  inflating: ./weather_classification_data.csv  \n",
            "replace ./data_scaled_labeled_check.csv? [y]es, [n]o, [A]ll, [N]one, [r]ename: y\n",
            "  inflating: ./data_scaled_labeled_check.csv  \n"
          ]
        }
      ],
      "source": [
        "!unzip -j /content/utils.zip -d."
      ]
    },
    {
      "cell_type": "markdown",
      "metadata": {
        "id": "VA4ZUSGu0Ox3"
      },
      "source": [
        "# Dataset Loading and Pre-Processing"
      ]
    },
    {
      "cell_type": "code",
      "execution_count": 23,
      "metadata": {
        "id": "_tP5JsNsqBsI"
      },
      "outputs": [],
      "source": [
        "import pandas as pd\n",
        "data = pd.read_csv(\"/content/weather_classification_data.csv\")"
      ]
    },
    {
      "cell_type": "markdown",
      "metadata": {
        "id": "MBHkfY1c0gO6"
      },
      "source": [
        "## Data Info\n",
        "```data.info``` gives info about data-types and number of null objects.  \n",
        "There are no null data, no need to remove any."
      ]
    },
    {
      "cell_type": "code",
      "execution_count": 24,
      "metadata": {
        "colab": {
          "base_uri": "https://localhost:8080/"
        },
        "id": "O-myJ9LmqG8J",
        "outputId": "3807d016-a4bc-492e-f3cb-35a69238286d"
      },
      "outputs": [
        {
          "name": "stdout",
          "output_type": "stream",
          "text": [
            "<class 'pandas.core.frame.DataFrame'>\n",
            "RangeIndex: 13200 entries, 0 to 13199\n",
            "Data columns (total 11 columns):\n",
            " #   Column                Non-Null Count  Dtype  \n",
            "---  ------                --------------  -----  \n",
            " 0   Temperature           13200 non-null  float64\n",
            " 1   Humidity              13200 non-null  int64  \n",
            " 2   Wind Speed            13200 non-null  float64\n",
            " 3   Precipitation (%)     13200 non-null  float64\n",
            " 4   Cloud Cover           13200 non-null  object \n",
            " 5   Atmospheric Pressure  13200 non-null  float64\n",
            " 6   UV Index              13200 non-null  int64  \n",
            " 7   Season                13200 non-null  object \n",
            " 8   Visibility (km)       13200 non-null  float64\n",
            " 9   Location              13200 non-null  object \n",
            " 10  Weather Type          13200 non-null  object \n",
            "dtypes: float64(5), int64(2), object(4)\n",
            "memory usage: 1.1+ MB\n"
          ]
        }
      ],
      "source": [
        "data.info()"
      ]
    },
    {
      "cell_type": "markdown",
      "metadata": {
        "id": "98kT9K8a1LF9"
      },
      "source": [
        "## Data Shuffling\n",
        "Data Shuffling removes any bias present and creates uniform distribution."
      ]
    },
    {
      "cell_type": "code",
      "execution_count": 25,
      "metadata": {
        "colab": {
          "base_uri": "https://localhost:8080/",
          "height": 241
        },
        "id": "DJ6bkcTbz8kP",
        "outputId": "55f1ae38-0f1a-43c8-8b83-1ca6a5136335"
      },
      "outputs": [
        {
          "data": {
            "application/vnd.google.colaboratory.intrinsic+json": {
              "summary": "{\n  \"name\": \"data\",\n  \"rows\": 13200,\n  \"fields\": [\n    {\n      \"column\": \"Temperature\",\n      \"properties\": {\n        \"dtype\": \"number\",\n        \"std\": 17.386326582360788,\n        \"min\": -25.0,\n        \"max\": 109.0,\n        \"num_unique_values\": 126,\n        \"samples\": [\n          49.0,\n          59.0,\n          -21.0\n        ],\n        \"semantic_type\": \"\",\n        \"description\": \"\"\n      }\n    },\n    {\n      \"column\": \"Humidity\",\n      \"properties\": {\n        \"dtype\": \"number\",\n        \"std\": 20,\n        \"min\": 20,\n        \"max\": 109,\n        \"num_unique_values\": 90,\n        \"samples\": [\n          92,\n          86,\n          95\n        ],\n        \"semantic_type\": \"\",\n        \"description\": \"\"\n      }\n    },\n    {\n      \"column\": \"Wind Speed\",\n      \"properties\": {\n        \"dtype\": \"number\",\n        \"std\": 6.908704141531295,\n        \"min\": 0.0,\n        \"max\": 48.5,\n        \"num_unique_values\": 97,\n        \"samples\": [\n          39.5,\n          41.5,\n          45.0\n        ],\n        \"semantic_type\": \"\",\n        \"description\": \"\"\n      }\n    },\n    {\n      \"column\": \"Precipitation (%)\",\n      \"properties\": {\n        \"dtype\": \"number\",\n        \"std\": 31.946540769981375,\n        \"min\": 0.0,\n        \"max\": 109.0,\n        \"num_unique_values\": 110,\n        \"samples\": [\n          11.0,\n          85.0,\n          4.0\n        ],\n        \"semantic_type\": \"\",\n        \"description\": \"\"\n      }\n    },\n    {\n      \"column\": \"Cloud Cover\",\n      \"properties\": {\n        \"dtype\": \"category\",\n        \"num_unique_values\": 4,\n        \"samples\": [\n          \"overcast\",\n          \"cloudy\",\n          \"partly cloudy\"\n        ],\n        \"semantic_type\": \"\",\n        \"description\": \"\"\n      }\n    },\n    {\n      \"column\": \"Atmospheric Pressure\",\n      \"properties\": {\n        \"dtype\": \"number\",\n        \"std\": 37.199588697503295,\n        \"min\": 800.12,\n        \"max\": 1199.21,\n        \"num_unique_values\": 5456,\n        \"samples\": [\n          939.18,\n          983.25,\n          983.81\n        ],\n        \"semantic_type\": \"\",\n        \"description\": \"\"\n      }\n    },\n    {\n      \"column\": \"UV Index\",\n      \"properties\": {\n        \"dtype\": \"number\",\n        \"std\": 3,\n        \"min\": 0,\n        \"max\": 14,\n        \"num_unique_values\": 15,\n        \"samples\": [\n          6,\n          9,\n          1\n        ],\n        \"semantic_type\": \"\",\n        \"description\": \"\"\n      }\n    },\n    {\n      \"column\": \"Season\",\n      \"properties\": {\n        \"dtype\": \"category\",\n        \"num_unique_values\": 4,\n        \"samples\": [\n          \"Spring\",\n          \"Summer\",\n          \"Winter\"\n        ],\n        \"semantic_type\": \"\",\n        \"description\": \"\"\n      }\n    },\n    {\n      \"column\": \"Visibility (km)\",\n      \"properties\": {\n        \"dtype\": \"number\",\n        \"std\": 3.3714989103539494,\n        \"min\": 0.0,\n        \"max\": 20.0,\n        \"num_unique_values\": 41,\n        \"samples\": [\n          19.5,\n          7.5,\n          6.0\n        ],\n        \"semantic_type\": \"\",\n        \"description\": \"\"\n      }\n    },\n    {\n      \"column\": \"Location\",\n      \"properties\": {\n        \"dtype\": \"category\",\n        \"num_unique_values\": 3,\n        \"samples\": [\n          \"mountain\",\n          \"coastal\",\n          \"inland\"\n        ],\n        \"semantic_type\": \"\",\n        \"description\": \"\"\n      }\n    },\n    {\n      \"column\": \"Weather Type\",\n      \"properties\": {\n        \"dtype\": \"category\",\n        \"num_unique_values\": 4,\n        \"samples\": [\n          \"Rainy\",\n          \"Cloudy\",\n          \"Snowy\"\n        ],\n        \"semantic_type\": \"\",\n        \"description\": \"\"\n      }\n    }\n  ]\n}",
              "type": "dataframe",
              "variable_name": "data"
            },
            "text/html": [
              "\n",
              "  <div id=\"df-08e8cc19-51de-4a23-bca4-b4b3897053e9\" class=\"colab-df-container\">\n",
              "    <div>\n",
              "<style scoped>\n",
              "    .dataframe tbody tr th:only-of-type {\n",
              "        vertical-align: middle;\n",
              "    }\n",
              "\n",
              "    .dataframe tbody tr th {\n",
              "        vertical-align: top;\n",
              "    }\n",
              "\n",
              "    .dataframe thead th {\n",
              "        text-align: right;\n",
              "    }\n",
              "</style>\n",
              "<table border=\"1\" class=\"dataframe\">\n",
              "  <thead>\n",
              "    <tr style=\"text-align: right;\">\n",
              "      <th></th>\n",
              "      <th>Temperature</th>\n",
              "      <th>Humidity</th>\n",
              "      <th>Wind Speed</th>\n",
              "      <th>Precipitation (%)</th>\n",
              "      <th>Cloud Cover</th>\n",
              "      <th>Atmospheric Pressure</th>\n",
              "      <th>UV Index</th>\n",
              "      <th>Season</th>\n",
              "      <th>Visibility (km)</th>\n",
              "      <th>Location</th>\n",
              "      <th>Weather Type</th>\n",
              "    </tr>\n",
              "  </thead>\n",
              "  <tbody>\n",
              "    <tr>\n",
              "      <th>1561</th>\n",
              "      <td>1.0</td>\n",
              "      <td>60</td>\n",
              "      <td>2.5</td>\n",
              "      <td>61.0</td>\n",
              "      <td>partly cloudy</td>\n",
              "      <td>995.83</td>\n",
              "      <td>1</td>\n",
              "      <td>Winter</td>\n",
              "      <td>2.5</td>\n",
              "      <td>mountain</td>\n",
              "      <td>Snowy</td>\n",
              "    </tr>\n",
              "    <tr>\n",
              "      <th>3778</th>\n",
              "      <td>10.0</td>\n",
              "      <td>60</td>\n",
              "      <td>14.5</td>\n",
              "      <td>78.0</td>\n",
              "      <td>overcast</td>\n",
              "      <td>1019.93</td>\n",
              "      <td>2</td>\n",
              "      <td>Spring</td>\n",
              "      <td>2.0</td>\n",
              "      <td>coastal</td>\n",
              "      <td>Rainy</td>\n",
              "    </tr>\n",
              "    <tr>\n",
              "      <th>2573</th>\n",
              "      <td>14.0</td>\n",
              "      <td>88</td>\n",
              "      <td>6.5</td>\n",
              "      <td>60.0</td>\n",
              "      <td>overcast</td>\n",
              "      <td>1016.66</td>\n",
              "      <td>0</td>\n",
              "      <td>Autumn</td>\n",
              "      <td>3.0</td>\n",
              "      <td>mountain</td>\n",
              "      <td>Rainy</td>\n",
              "    </tr>\n",
              "    <tr>\n",
              "      <th>9083</th>\n",
              "      <td>11.0</td>\n",
              "      <td>70</td>\n",
              "      <td>11.5</td>\n",
              "      <td>75.0</td>\n",
              "      <td>overcast</td>\n",
              "      <td>1013.41</td>\n",
              "      <td>1</td>\n",
              "      <td>Summer</td>\n",
              "      <td>2.5</td>\n",
              "      <td>coastal</td>\n",
              "      <td>Rainy</td>\n",
              "    </tr>\n",
              "    <tr>\n",
              "      <th>3804</th>\n",
              "      <td>40.0</td>\n",
              "      <td>61</td>\n",
              "      <td>9.0</td>\n",
              "      <td>4.0</td>\n",
              "      <td>clear</td>\n",
              "      <td>1017.38</td>\n",
              "      <td>11</td>\n",
              "      <td>Summer</td>\n",
              "      <td>8.5</td>\n",
              "      <td>mountain</td>\n",
              "      <td>Sunny</td>\n",
              "    </tr>\n",
              "  </tbody>\n",
              "</table>\n",
              "</div>\n",
              "    <div class=\"colab-df-buttons\">\n",
              "\n",
              "  <div class=\"colab-df-container\">\n",
              "    <button class=\"colab-df-convert\" onclick=\"convertToInteractive('df-08e8cc19-51de-4a23-bca4-b4b3897053e9')\"\n",
              "            title=\"Convert this dataframe to an interactive table.\"\n",
              "            style=\"display:none;\">\n",
              "\n",
              "  <svg xmlns=\"http://www.w3.org/2000/svg\" height=\"24px\" viewBox=\"0 -960 960 960\">\n",
              "    <path d=\"M120-120v-720h720v720H120Zm60-500h600v-160H180v160Zm220 220h160v-160H400v160Zm0 220h160v-160H400v160ZM180-400h160v-160H180v160Zm440 0h160v-160H620v160ZM180-180h160v-160H180v160Zm440 0h160v-160H620v160Z\"/>\n",
              "  </svg>\n",
              "    </button>\n",
              "\n",
              "  <style>\n",
              "    .colab-df-container {\n",
              "      display:flex;\n",
              "      gap: 12px;\n",
              "    }\n",
              "\n",
              "    .colab-df-convert {\n",
              "      background-color: #E8F0FE;\n",
              "      border: none;\n",
              "      border-radius: 50%;\n",
              "      cursor: pointer;\n",
              "      display: none;\n",
              "      fill: #1967D2;\n",
              "      height: 32px;\n",
              "      padding: 0 0 0 0;\n",
              "      width: 32px;\n",
              "    }\n",
              "\n",
              "    .colab-df-convert:hover {\n",
              "      background-color: #E2EBFA;\n",
              "      box-shadow: 0px 1px 2px rgba(60, 64, 67, 0.3), 0px 1px 3px 1px rgba(60, 64, 67, 0.15);\n",
              "      fill: #174EA6;\n",
              "    }\n",
              "\n",
              "    .colab-df-buttons div {\n",
              "      margin-bottom: 4px;\n",
              "    }\n",
              "\n",
              "    [theme=dark] .colab-df-convert {\n",
              "      background-color: #3B4455;\n",
              "      fill: #D2E3FC;\n",
              "    }\n",
              "\n",
              "    [theme=dark] .colab-df-convert:hover {\n",
              "      background-color: #434B5C;\n",
              "      box-shadow: 0px 1px 3px 1px rgba(0, 0, 0, 0.15);\n",
              "      filter: drop-shadow(0px 1px 2px rgba(0, 0, 0, 0.3));\n",
              "      fill: #FFFFFF;\n",
              "    }\n",
              "  </style>\n",
              "\n",
              "    <script>\n",
              "      const buttonEl =\n",
              "        document.querySelector('#df-08e8cc19-51de-4a23-bca4-b4b3897053e9 button.colab-df-convert');\n",
              "      buttonEl.style.display =\n",
              "        google.colab.kernel.accessAllowed ? 'block' : 'none';\n",
              "\n",
              "      async function convertToInteractive(key) {\n",
              "        const element = document.querySelector('#df-08e8cc19-51de-4a23-bca4-b4b3897053e9');\n",
              "        const dataTable =\n",
              "          await google.colab.kernel.invokeFunction('convertToInteractive',\n",
              "                                                    [key], {});\n",
              "        if (!dataTable) return;\n",
              "\n",
              "        const docLinkHtml = 'Like what you see? Visit the ' +\n",
              "          '<a target=\"_blank\" href=https://colab.research.google.com/notebooks/data_table.ipynb>data table notebook</a>'\n",
              "          + ' to learn more about interactive tables.';\n",
              "        element.innerHTML = '';\n",
              "        dataTable['output_type'] = 'display_data';\n",
              "        await google.colab.output.renderOutput(dataTable, element);\n",
              "        const docLink = document.createElement('div');\n",
              "        docLink.innerHTML = docLinkHtml;\n",
              "        element.appendChild(docLink);\n",
              "      }\n",
              "    </script>\n",
              "  </div>\n",
              "\n",
              "\n",
              "<div id=\"df-b62ce1b0-e696-4aa7-84e8-1531e0171ef3\">\n",
              "  <button class=\"colab-df-quickchart\" onclick=\"quickchart('df-b62ce1b0-e696-4aa7-84e8-1531e0171ef3')\"\n",
              "            title=\"Suggest charts\"\n",
              "            style=\"display:none;\">\n",
              "\n",
              "<svg xmlns=\"http://www.w3.org/2000/svg\" height=\"24px\"viewBox=\"0 0 24 24\"\n",
              "     width=\"24px\">\n",
              "    <g>\n",
              "        <path d=\"M19 3H5c-1.1 0-2 .9-2 2v14c0 1.1.9 2 2 2h14c1.1 0 2-.9 2-2V5c0-1.1-.9-2-2-2zM9 17H7v-7h2v7zm4 0h-2V7h2v10zm4 0h-2v-4h2v4z\"/>\n",
              "    </g>\n",
              "</svg>\n",
              "  </button>\n",
              "\n",
              "<style>\n",
              "  .colab-df-quickchart {\n",
              "      --bg-color: #E8F0FE;\n",
              "      --fill-color: #1967D2;\n",
              "      --hover-bg-color: #E2EBFA;\n",
              "      --hover-fill-color: #174EA6;\n",
              "      --disabled-fill-color: #AAA;\n",
              "      --disabled-bg-color: #DDD;\n",
              "  }\n",
              "\n",
              "  [theme=dark] .colab-df-quickchart {\n",
              "      --bg-color: #3B4455;\n",
              "      --fill-color: #D2E3FC;\n",
              "      --hover-bg-color: #434B5C;\n",
              "      --hover-fill-color: #FFFFFF;\n",
              "      --disabled-bg-color: #3B4455;\n",
              "      --disabled-fill-color: #666;\n",
              "  }\n",
              "\n",
              "  .colab-df-quickchart {\n",
              "    background-color: var(--bg-color);\n",
              "    border: none;\n",
              "    border-radius: 50%;\n",
              "    cursor: pointer;\n",
              "    display: none;\n",
              "    fill: var(--fill-color);\n",
              "    height: 32px;\n",
              "    padding: 0;\n",
              "    width: 32px;\n",
              "  }\n",
              "\n",
              "  .colab-df-quickchart:hover {\n",
              "    background-color: var(--hover-bg-color);\n",
              "    box-shadow: 0 1px 2px rgba(60, 64, 67, 0.3), 0 1px 3px 1px rgba(60, 64, 67, 0.15);\n",
              "    fill: var(--button-hover-fill-color);\n",
              "  }\n",
              "\n",
              "  .colab-df-quickchart-complete:disabled,\n",
              "  .colab-df-quickchart-complete:disabled:hover {\n",
              "    background-color: var(--disabled-bg-color);\n",
              "    fill: var(--disabled-fill-color);\n",
              "    box-shadow: none;\n",
              "  }\n",
              "\n",
              "  .colab-df-spinner {\n",
              "    border: 2px solid var(--fill-color);\n",
              "    border-color: transparent;\n",
              "    border-bottom-color: var(--fill-color);\n",
              "    animation:\n",
              "      spin 1s steps(1) infinite;\n",
              "  }\n",
              "\n",
              "  @keyframes spin {\n",
              "    0% {\n",
              "      border-color: transparent;\n",
              "      border-bottom-color: var(--fill-color);\n",
              "      border-left-color: var(--fill-color);\n",
              "    }\n",
              "    20% {\n",
              "      border-color: transparent;\n",
              "      border-left-color: var(--fill-color);\n",
              "      border-top-color: var(--fill-color);\n",
              "    }\n",
              "    30% {\n",
              "      border-color: transparent;\n",
              "      border-left-color: var(--fill-color);\n",
              "      border-top-color: var(--fill-color);\n",
              "      border-right-color: var(--fill-color);\n",
              "    }\n",
              "    40% {\n",
              "      border-color: transparent;\n",
              "      border-right-color: var(--fill-color);\n",
              "      border-top-color: var(--fill-color);\n",
              "    }\n",
              "    60% {\n",
              "      border-color: transparent;\n",
              "      border-right-color: var(--fill-color);\n",
              "    }\n",
              "    80% {\n",
              "      border-color: transparent;\n",
              "      border-right-color: var(--fill-color);\n",
              "      border-bottom-color: var(--fill-color);\n",
              "    }\n",
              "    90% {\n",
              "      border-color: transparent;\n",
              "      border-bottom-color: var(--fill-color);\n",
              "    }\n",
              "  }\n",
              "</style>\n",
              "\n",
              "  <script>\n",
              "    async function quickchart(key) {\n",
              "      const quickchartButtonEl =\n",
              "        document.querySelector('#' + key + ' button');\n",
              "      quickchartButtonEl.disabled = true;  // To prevent multiple clicks.\n",
              "      quickchartButtonEl.classList.add('colab-df-spinner');\n",
              "      try {\n",
              "        const charts = await google.colab.kernel.invokeFunction(\n",
              "            'suggestCharts', [key], {});\n",
              "      } catch (error) {\n",
              "        console.error('Error during call to suggestCharts:', error);\n",
              "      }\n",
              "      quickchartButtonEl.classList.remove('colab-df-spinner');\n",
              "      quickchartButtonEl.classList.add('colab-df-quickchart-complete');\n",
              "    }\n",
              "    (() => {\n",
              "      let quickchartButtonEl =\n",
              "        document.querySelector('#df-b62ce1b0-e696-4aa7-84e8-1531e0171ef3 button');\n",
              "      quickchartButtonEl.style.display =\n",
              "        google.colab.kernel.accessAllowed ? 'block' : 'none';\n",
              "    })();\n",
              "  </script>\n",
              "</div>\n",
              "\n",
              "    </div>\n",
              "  </div>\n"
            ],
            "text/plain": [
              "      Temperature  Humidity  Wind Speed  Precipitation (%)    Cloud Cover  \\\n",
              "1561          1.0        60         2.5               61.0  partly cloudy   \n",
              "3778         10.0        60        14.5               78.0       overcast   \n",
              "2573         14.0        88         6.5               60.0       overcast   \n",
              "9083         11.0        70        11.5               75.0       overcast   \n",
              "3804         40.0        61         9.0                4.0          clear   \n",
              "\n",
              "      Atmospheric Pressure  UV Index  Season  Visibility (km)  Location  \\\n",
              "1561                995.83         1  Winter              2.5  mountain   \n",
              "3778               1019.93         2  Spring              2.0   coastal   \n",
              "2573               1016.66         0  Autumn              3.0  mountain   \n",
              "9083               1013.41         1  Summer              2.5   coastal   \n",
              "3804               1017.38        11  Summer              8.5  mountain   \n",
              "\n",
              "     Weather Type  \n",
              "1561        Snowy  \n",
              "3778        Rainy  \n",
              "2573        Rainy  \n",
              "9083        Rainy  \n",
              "3804        Sunny  "
            ]
          },
          "execution_count": 25,
          "metadata": {},
          "output_type": "execute_result"
        }
      ],
      "source": [
        "from sklearn.utils import shuffle\n",
        "data = shuffle(data)\n",
        "data.head()"
      ]
    },
    {
      "cell_type": "markdown",
      "metadata": {
        "id": "7vKEzz9j19WQ"
      },
      "source": [
        "## Scaling and Labeling\n",
        "Machine can't understand string so all the object datatypes need to be LABELED with integers.<br><br>\n",
        "Why SCALING?<br>\n",
        "You might have noticed one column contains data with large values (of order 1000) whereas some column contain small value data (of order 10). As a result, large value columns get more power/importance than others. To remove this disparity we scaled them to same order/values."
      ]
    },
    {
      "cell_type": "markdown",
      "metadata": {
        "id": "TBg-lPJgzM4Y"
      },
      "source": [
        "**CODE**\n",
        "\n",
        "We need to find the columns with object datatypes.\n",
        "\n",
        "HINT: Use ```data.select_dtypes().columns.tolist()```<br>Reference: [w3schools](https://www.w3schools.com/python/pandas/ref_df_select_dtypes.asp#:~:text=The%20select_dtypes()%20method%20returns,the%20specified%20dtype(s).&text=Note%3A%20You%20must%20specify%20at,you%20will%20get%20an%20error.)"
      ]
    },
    {
      "cell_type": "code",
      "execution_count": 26,
      "metadata": {
        "colab": {
          "base_uri": "https://localhost:8080/"
        },
        "id": "cIIKd53NpRKU",
        "outputId": "1736e490-884c-41e9-9a3c-d8e876548fad"
      },
      "outputs": [
        {
          "name": "stdout",
          "output_type": "stream",
          "text": [
            "Object Columns: ['Cloud Cover', 'Season', 'Location', 'Weather Type']\n",
            "Non Object Columns: ['Temperature', 'Humidity', 'Wind Speed', 'Precipitation (%)', 'Atmospheric Pressure', 'UV Index', 'Visibility (km)']\n"
          ]
        }
      ],
      "source": [
        "# START CODE HERE\n",
        "object_columns = data.select_dtypes(include = 'object').columns.tolist()\n",
        "non_object_columns = data.select_dtypes(exclude = 'object').columns.tolist()\n",
        "# END CODE HERE\n",
        "print(f\"Object Columns: {object_columns}\\nNon Object Columns: {non_object_columns}\")"
      ]
    },
    {
      "cell_type": "markdown",
      "metadata": {
        "id": "KYlrJpdaAyKH"
      },
      "source": [
        "**TEST** (DON'T EDIT THIS CELL)"
      ]
    },
    {
      "cell_type": "code",
      "execution_count": 27,
      "metadata": {
        "colab": {
          "base_uri": "https://localhost:8080/"
        },
        "id": "z4-pWLR5_fVf",
        "outputId": "311cd82d-98cf-4bc1-d44d-41e57e01eb96"
      },
      "outputs": [
        {
          "name": "stdout",
          "output_type": "stream",
          "text": [
            "\u001b[32mTest Passed\u001b[0m\n"
          ]
        }
      ],
      "source": [
        "# DON'T EDIT THIS CELL\n",
        "if (object_columns == ['Cloud Cover', 'Season', 'Location', 'Weather Type'] and non_object_columns == ['Temperature', 'Humidity', 'Wind Speed', 'Precipitation (%)', 'Atmospheric Pressure', 'UV Index', 'Visibility (km)']):\n",
        "  print(f\"\\033[32mTest Passed\\033[0m\")\n",
        "else:\n",
        "  print(f\"\\033[31mTest Failed\\033[0m\")"
      ]
    },
    {
      "cell_type": "markdown",
      "metadata": {
        "id": "reVHprk6z_nD"
      },
      "source": [
        "**CODE**\n",
        "\n",
        "We need to convert the object-type columns data into integral labels and scale the non-object-type columns data.\n",
        "\n",
        "HINT: Use ```ColumnTransformer()```<br>Reference: [scikit-learn](https://scikit-learn.org/stable/modules/generated/sklearn.compose.ColumnTransformer.html), [ChatGPT](https://chatgpt.com/c/7f3c1b02-5da0-4c34-bdb2-d999dccb9c2f)"
      ]
    },
    {
      "cell_type": "code",
      "execution_count": 28,
      "metadata": {
        "id": "kVT5qfqarRhF"
      },
      "outputs": [],
      "source": [
        "from sklearn.preprocessing import OrdinalEncoder, StandardScaler\n",
        "from sklearn.compose import ColumnTransformer\n",
        "\n",
        "# START CODE HERE\n",
        "\n",
        "column_transformer = ColumnTransformer(transformers=[('obj', OrdinalEncoder(), object_columns),('num', StandardScaler(), non_object_columns)])\n",
        "\n",
        "# Fit and transform the data\n",
        "data_scaled_labeled = column_transformer.fit_transform(data)\n",
        "\n",
        "# END CODE HERE\n",
        "\n",
        "all_columns = object_columns + non_object_columns\n",
        "\n",
        "# Create the new DataFrame\n",
        "data_scaled_labeled = pd.DataFrame(data_scaled_labeled, columns=all_columns)"
      ]
    },
    {
      "cell_type": "markdown",
      "metadata": {
        "id": "2AvKGjfJk3cY"
      },
      "source": [
        "**TEST** (DON'T EDIT THIS CELL)"
      ]
    },
    {
      "cell_type": "code",
      "execution_count": 29,
      "metadata": {
        "colab": {
          "base_uri": "https://localhost:8080/"
        },
        "id": "7mT4H6o5D-mN",
        "outputId": "639e2a6e-2da5-4219-e1cf-b7694cd3ac2a"
      },
      "outputs": [
        {
          "name": "stdout",
          "output_type": "stream",
          "text": [
            "\u001b[32mTest Passed\u001b[0m\n"
          ]
        }
      ],
      "source": [
        "# DON'T EDIT THIS CELL\n",
        "\n",
        "data_scaled_labeled_check = pd.read_csv(\"/content/data_scaled_labeled_check.csv\")\n",
        "import numpy as np\n",
        "data_scaled_labeled_values = np.sort(data_scaled_labeled.values,axis=0)\n",
        "data_scaled_labeled_check_values = np.sort(data_scaled_labeled_check.values,axis=0)\n",
        "if np.allclose(data_scaled_labeled_values, data_scaled_labeled_check_values, equal_nan=True):\n",
        "  print(f\"\\033[32mTest Passed\\033[0m\")\n",
        "else:\n",
        "  print(f\"\\033[31mTest Failed\\033[0m\")"
      ]
    },
    {
      "cell_type": "markdown",
      "metadata": {
        "id": "wpIxEziM2EYr"
      },
      "source": [
        "## Data Splitting"
      ]
    },
    {
      "cell_type": "markdown",
      "metadata": {
        "id": "GKCxivFq1rjB"
      },
      "source": [
        "**CODE**\n",
        "\n",
        "We need to drop the Weather Type column from data_scaled_labeled to get the X and pick Weather Type column to get Y\n",
        "\n",
        "Use 90-10 split of data, i.e. 90% for training, 10% for testing"
      ]
    },
    {
      "cell_type": "code",
      "execution_count": 34,
      "metadata": {
        "colab": {
          "base_uri": "https://localhost:8080/"
        },
        "id": "e-gDICS-mZYG",
        "outputId": "060f5517-363f-4d69-8405-5a78af8ffd40"
      },
      "outputs": [
        {
          "name": "stdout",
          "output_type": "stream",
          "text": [
            "       Cloud Cover  Season  Location  Weather Type  Temperature  Humidity  \\\n",
            "0              3.0     3.0       2.0           2.0    -1.042674 -0.431369   \n",
            "1              2.0     1.0       0.0           1.0    -0.525006 -0.431369   \n",
            "2              2.0     0.0       2.0           1.0    -0.294931  0.955217   \n",
            "3              2.0     2.0       0.0           1.0    -0.467487  0.063841   \n",
            "4              0.0     2.0       2.0           3.0     1.200553 -0.381848   \n",
            "...            ...     ...       ...           ...          ...       ...   \n",
            "13195          3.0     2.0       1.0           0.0     0.395293 -0.282806   \n",
            "13196          3.0     1.0       1.0           1.0    -0.064857  0.113362   \n",
            "13197          0.0     2.0       1.0           3.0     0.740404 -0.976099   \n",
            "13198          3.0     0.0       0.0           0.0     0.337774  0.063841   \n",
            "13199          3.0     0.0       0.0           1.0     0.107699  1.252343   \n",
            "\n",
            "       Wind Speed  Precipitation (%)  Atmospheric Pressure  UV Index  \\\n",
            "0       -1.061339           0.230256             -0.268774 -0.779410   \n",
            "1        0.675666           0.762415              0.379107 -0.520104   \n",
            "2       -0.482337           0.198953              0.291200 -1.038715   \n",
            "3        0.241415           0.668505              0.203830 -0.779410   \n",
            "4       -0.120461          -1.554042              0.310556  1.813646   \n",
            "...           ...                ...                   ...       ...   \n",
            "13195   -0.627087          -1.147097              0.059468 -0.001493   \n",
            "13196    0.386166           0.386773              0.249531 -1.038715   \n",
            "13197   -0.120461          -1.178401              0.554654  1.295035   \n",
            "13198   -0.554712          -1.178401              0.347385 -0.520104   \n",
            "13199   -0.048086           0.887629             -0.271731 -0.520104   \n",
            "\n",
            "       Visibility (km)  \n",
            "0            -0.878846  \n",
            "1            -1.027154  \n",
            "2            -0.730539  \n",
            "3            -0.878846  \n",
            "4             0.900845  \n",
            "...                ...  \n",
            "13195         0.307615  \n",
            "13196        -0.433923  \n",
            "13197         0.752538  \n",
            "13198         0.604230  \n",
            "13199        -0.285616  \n",
            "\n",
            "[13200 rows x 11 columns]\n"
          ]
        }
      ],
      "source": [
        "print(data_scaled_labeled)\n",
        "X = data_scaled_labeled.drop(columns=[\"Weather Type\"])\n",
        "y = data['Weather Type']\n",
        "\n",
        "from sklearn.model_selection import train_test_split\n",
        "\n",
        "X_train, X_test, y_train, y_test = train_test_split(X, y, train_size = 0.9, random_state = 10)"
      ]
    },
    {
      "cell_type": "markdown",
      "metadata": {
        "id": "WjR9MqGMpJ82"
      },
      "source": [
        "**TEST** (DON'T EDIT THIS CELL)"
      ]
    },
    {
      "cell_type": "code",
      "execution_count": 35,
      "metadata": {
        "colab": {
          "base_uri": "https://localhost:8080/"
        },
        "id": "q5ZtYcaxKzFK",
        "outputId": "49ee77a1-d8b5-431d-edfc-0b9af704d088"
      },
      "outputs": [
        {
          "name": "stdout",
          "output_type": "stream",
          "text": [
            "\u001b[32mTest Passed\u001b[0m\n",
            "\u001b[32mTest Passed\u001b[0m\n"
          ]
        }
      ],
      "source": [
        "# DON'T EDIT THIS CELL\n",
        "\n",
        "if (len(X_train)==11880 and len(X_test)==1320):\n",
        "  print(f\"\\033[32mTest Passed\\033[0m\")\n",
        "else:\n",
        "  print(f\"\\033[31mTest Failed\\033[0m\")\n",
        "\n",
        "if (len(y_train)==11880 and len(y_test)==1320):\n",
        "  print(f\"\\033[32mTest Passed\\033[0m\")\n",
        "else:\n",
        "  print(f\"\\033[31mTest Failed\\033[0m\")"
      ]
    },
    {
      "cell_type": "code",
      "execution_count": 36,
      "metadata": {
        "colab": {
          "base_uri": "https://localhost:8080/",
          "height": 223
        },
        "id": "uwYLbRwPzNBd",
        "outputId": "83081676-9372-460f-c960-2e0e593f1fad"
      },
      "outputs": [
        {
          "data": {
            "application/vnd.google.colaboratory.intrinsic+json": {
              "summary": "{\n  \"name\": \"X_train\",\n  \"rows\": 11880,\n  \"fields\": [\n    {\n      \"column\": \"Cloud Cover\",\n      \"properties\": {\n        \"dtype\": \"number\",\n        \"std\": 1.0121434677318963,\n        \"min\": 0.0,\n        \"max\": 3.0,\n        \"num_unique_values\": 4,\n        \"samples\": [\n          3.0,\n          0.0,\n          2.0\n        ],\n        \"semantic_type\": \"\",\n        \"description\": \"\"\n      }\n    },\n    {\n      \"column\": \"Season\",\n      \"properties\": {\n        \"dtype\": \"number\",\n        \"std\": 1.162944584515283,\n        \"min\": 0.0,\n        \"max\": 3.0,\n        \"num_unique_values\": 4,\n        \"samples\": [\n          1.0,\n          2.0,\n          3.0\n        ],\n        \"semantic_type\": \"\",\n        \"description\": \"\"\n      }\n    },\n    {\n      \"column\": \"Location\",\n      \"properties\": {\n        \"dtype\": \"number\",\n        \"std\": 0.7917186315636403,\n        \"min\": 0.0,\n        \"max\": 2.0,\n        \"num_unique_values\": 3,\n        \"samples\": [\n          1.0,\n          0.0,\n          2.0\n        ],\n        \"semantic_type\": \"\",\n        \"description\": \"\"\n      }\n    },\n    {\n      \"column\": \"Temperature\",\n      \"properties\": {\n        \"dtype\": \"number\",\n        \"std\": 0.996850662007506,\n        \"min\": -2.538158198201921,\n        \"max\": 5.1693397261694916,\n        \"num_unique_values\": 125,\n        \"samples\": [\n          -0.23741254913582777,\n          1.2005534815304806,\n          -0.007337984229218443\n        ],\n        \"semantic_type\": \"\",\n        \"description\": \"\"\n      }\n    },\n    {\n      \"column\": \"Humidity\",\n      \"properties\": {\n        \"dtype\": \"number\",\n        \"std\": 1.0014565421563213,\n        \"min\": -2.4122056105711907,\n        \"max\": 1.995156872261225,\n        \"num_unique_values\": 90,\n        \"samples\": [\n          -1.5208289286500278,\n          -2.2636428302509968,\n          -1.47130800187663\n        ],\n        \"semantic_type\": \"\",\n        \"description\": \"\"\n      }\n    },\n    {\n      \"column\": \"Wind Speed\",\n      \"properties\": {\n        \"dtype\": \"number\",\n        \"std\": 1.0037461147722004,\n        \"min\": -1.4232147188724793,\n        \"max\": 5.597181035815361,\n        \"num_unique_values\": 96,\n        \"samples\": [\n          4.51155282632755,\n          3.715425472703156,\n          4.87342889615682\n        ],\n        \"semantic_type\": \"\",\n        \"description\": \"\"\n      }\n    },\n    {\n      \"column\": \"Precipitation (%)\",\n      \"properties\": {\n        \"dtype\": \"number\",\n        \"std\": 1.0015349668454196,\n        \"min\": -1.6792561806842878,\n        \"max\": 1.7328230740721378,\n        \"num_unique_values\": 110,\n        \"samples\": [\n          -0.05147525180966279,\n          -1.4601318248742423,\n          1.6389126358678325\n        ],\n        \"semantic_type\": \"\",\n        \"description\": \"\"\n      }\n    },\n    {\n      \"column\": \"Atmospheric Pressure\",\n      \"properties\": {\n        \"dtype\": \"number\",\n        \"std\": 1.0035387068387283,\n        \"min\": -5.530052772719152,\n        \"max\": 5.198698051647312,\n        \"num_unique_values\": 5240,\n        \"samples\": [\n          -0.36178910792060415,\n          -0.583574154654482,\n          -1.2586071878045035\n        ],\n        \"semantic_type\": \"\",\n        \"description\": \"\"\n      }\n    },\n    {\n      \"column\": \"UV Index\",\n      \"properties\": {\n        \"dtype\": \"number\",\n        \"std\": 1.0001324751840248,\n        \"min\": -1.038715174557734,\n        \"max\": 2.591562536658494,\n        \"num_unique_values\": 15,\n        \"samples\": [\n          1.554340333453857,\n          0.2578125794480615,\n          -0.779409623756575\n        ],\n        \"semantic_type\": \"\",\n        \"description\": \"\"\n      }\n    },\n    {\n      \"column\": \"Visibility (km)\",\n      \"properties\": {\n        \"dtype\": \"number\",\n        \"std\": 1.0000966915363505,\n        \"min\": -1.6203842125853756,\n        \"max\": 4.311920127594475,\n        \"num_unique_values\": 41,\n        \"samples\": [\n          2.977151651054009,\n          0.01099948096408348,\n          0.7525375234865648\n        ],\n        \"semantic_type\": \"\",\n        \"description\": \"\"\n      }\n    }\n  ]\n}",
              "type": "dataframe",
              "variable_name": "X_train"
            },
            "text/html": [
              "\n",
              "  <div id=\"df-6bf44823-d07c-46a9-b2b6-b1995a8f8159\" class=\"colab-df-container\">\n",
              "    <div>\n",
              "<style scoped>\n",
              "    .dataframe tbody tr th:only-of-type {\n",
              "        vertical-align: middle;\n",
              "    }\n",
              "\n",
              "    .dataframe tbody tr th {\n",
              "        vertical-align: top;\n",
              "    }\n",
              "\n",
              "    .dataframe thead th {\n",
              "        text-align: right;\n",
              "    }\n",
              "</style>\n",
              "<table border=\"1\" class=\"dataframe\">\n",
              "  <thead>\n",
              "    <tr style=\"text-align: right;\">\n",
              "      <th></th>\n",
              "      <th>Cloud Cover</th>\n",
              "      <th>Season</th>\n",
              "      <th>Location</th>\n",
              "      <th>Temperature</th>\n",
              "      <th>Humidity</th>\n",
              "      <th>Wind Speed</th>\n",
              "      <th>Precipitation (%)</th>\n",
              "      <th>Atmospheric Pressure</th>\n",
              "      <th>UV Index</th>\n",
              "      <th>Visibility (km)</th>\n",
              "    </tr>\n",
              "  </thead>\n",
              "  <tbody>\n",
              "    <tr>\n",
              "      <th>7017</th>\n",
              "      <td>2.0</td>\n",
              "      <td>3.0</td>\n",
              "      <td>1.0</td>\n",
              "      <td>-1.617860</td>\n",
              "      <td>-0.233285</td>\n",
              "      <td>0.530916</td>\n",
              "      <td>1.106753</td>\n",
              "      <td>-0.222535</td>\n",
              "      <td>-0.779410</td>\n",
              "      <td>-0.730539</td>\n",
              "    </tr>\n",
              "    <tr>\n",
              "      <th>12278</th>\n",
              "      <td>2.0</td>\n",
              "      <td>3.0</td>\n",
              "      <td>1.0</td>\n",
              "      <td>-1.272748</td>\n",
              "      <td>1.252343</td>\n",
              "      <td>-0.265211</td>\n",
              "      <td>-0.114082</td>\n",
              "      <td>-0.489215</td>\n",
              "      <td>-0.779410</td>\n",
              "      <td>-0.433923</td>\n",
              "    </tr>\n",
              "    <tr>\n",
              "      <th>2859</th>\n",
              "      <td>3.0</td>\n",
              "      <td>1.0</td>\n",
              "      <td>0.0</td>\n",
              "      <td>-0.122375</td>\n",
              "      <td>0.162883</td>\n",
              "      <td>-0.771838</td>\n",
              "      <td>-0.708848</td>\n",
              "      <td>0.107858</td>\n",
              "      <td>-0.520104</td>\n",
              "      <td>-0.137308</td>\n",
              "    </tr>\n",
              "    <tr>\n",
              "      <th>5495</th>\n",
              "      <td>1.0</td>\n",
              "      <td>3.0</td>\n",
              "      <td>0.0</td>\n",
              "      <td>-1.675379</td>\n",
              "      <td>-1.916996</td>\n",
              "      <td>-0.048086</td>\n",
              "      <td>0.105042</td>\n",
              "      <td>4.062890</td>\n",
              "      <td>2.072951</td>\n",
              "      <td>-1.175461</td>\n",
              "    </tr>\n",
              "    <tr>\n",
              "      <th>8469</th>\n",
              "      <td>2.0</td>\n",
              "      <td>0.0</td>\n",
              "      <td>0.0</td>\n",
              "      <td>0.165218</td>\n",
              "      <td>0.261924</td>\n",
              "      <td>1.254668</td>\n",
              "      <td>1.638913</td>\n",
              "      <td>-0.422007</td>\n",
              "      <td>1.295035</td>\n",
              "      <td>-1.472077</td>\n",
              "    </tr>\n",
              "  </tbody>\n",
              "</table>\n",
              "</div>\n",
              "    <div class=\"colab-df-buttons\">\n",
              "\n",
              "  <div class=\"colab-df-container\">\n",
              "    <button class=\"colab-df-convert\" onclick=\"convertToInteractive('df-6bf44823-d07c-46a9-b2b6-b1995a8f8159')\"\n",
              "            title=\"Convert this dataframe to an interactive table.\"\n",
              "            style=\"display:none;\">\n",
              "\n",
              "  <svg xmlns=\"http://www.w3.org/2000/svg\" height=\"24px\" viewBox=\"0 -960 960 960\">\n",
              "    <path d=\"M120-120v-720h720v720H120Zm60-500h600v-160H180v160Zm220 220h160v-160H400v160Zm0 220h160v-160H400v160ZM180-400h160v-160H180v160Zm440 0h160v-160H620v160ZM180-180h160v-160H180v160Zm440 0h160v-160H620v160Z\"/>\n",
              "  </svg>\n",
              "    </button>\n",
              "\n",
              "  <style>\n",
              "    .colab-df-container {\n",
              "      display:flex;\n",
              "      gap: 12px;\n",
              "    }\n",
              "\n",
              "    .colab-df-convert {\n",
              "      background-color: #E8F0FE;\n",
              "      border: none;\n",
              "      border-radius: 50%;\n",
              "      cursor: pointer;\n",
              "      display: none;\n",
              "      fill: #1967D2;\n",
              "      height: 32px;\n",
              "      padding: 0 0 0 0;\n",
              "      width: 32px;\n",
              "    }\n",
              "\n",
              "    .colab-df-convert:hover {\n",
              "      background-color: #E2EBFA;\n",
              "      box-shadow: 0px 1px 2px rgba(60, 64, 67, 0.3), 0px 1px 3px 1px rgba(60, 64, 67, 0.15);\n",
              "      fill: #174EA6;\n",
              "    }\n",
              "\n",
              "    .colab-df-buttons div {\n",
              "      margin-bottom: 4px;\n",
              "    }\n",
              "\n",
              "    [theme=dark] .colab-df-convert {\n",
              "      background-color: #3B4455;\n",
              "      fill: #D2E3FC;\n",
              "    }\n",
              "\n",
              "    [theme=dark] .colab-df-convert:hover {\n",
              "      background-color: #434B5C;\n",
              "      box-shadow: 0px 1px 3px 1px rgba(0, 0, 0, 0.15);\n",
              "      filter: drop-shadow(0px 1px 2px rgba(0, 0, 0, 0.3));\n",
              "      fill: #FFFFFF;\n",
              "    }\n",
              "  </style>\n",
              "\n",
              "    <script>\n",
              "      const buttonEl =\n",
              "        document.querySelector('#df-6bf44823-d07c-46a9-b2b6-b1995a8f8159 button.colab-df-convert');\n",
              "      buttonEl.style.display =\n",
              "        google.colab.kernel.accessAllowed ? 'block' : 'none';\n",
              "\n",
              "      async function convertToInteractive(key) {\n",
              "        const element = document.querySelector('#df-6bf44823-d07c-46a9-b2b6-b1995a8f8159');\n",
              "        const dataTable =\n",
              "          await google.colab.kernel.invokeFunction('convertToInteractive',\n",
              "                                                    [key], {});\n",
              "        if (!dataTable) return;\n",
              "\n",
              "        const docLinkHtml = 'Like what you see? Visit the ' +\n",
              "          '<a target=\"_blank\" href=https://colab.research.google.com/notebooks/data_table.ipynb>data table notebook</a>'\n",
              "          + ' to learn more about interactive tables.';\n",
              "        element.innerHTML = '';\n",
              "        dataTable['output_type'] = 'display_data';\n",
              "        await google.colab.output.renderOutput(dataTable, element);\n",
              "        const docLink = document.createElement('div');\n",
              "        docLink.innerHTML = docLinkHtml;\n",
              "        element.appendChild(docLink);\n",
              "      }\n",
              "    </script>\n",
              "  </div>\n",
              "\n",
              "\n",
              "<div id=\"df-168c2cc1-530d-4e4e-afb7-44ff12e7b70b\">\n",
              "  <button class=\"colab-df-quickchart\" onclick=\"quickchart('df-168c2cc1-530d-4e4e-afb7-44ff12e7b70b')\"\n",
              "            title=\"Suggest charts\"\n",
              "            style=\"display:none;\">\n",
              "\n",
              "<svg xmlns=\"http://www.w3.org/2000/svg\" height=\"24px\"viewBox=\"0 0 24 24\"\n",
              "     width=\"24px\">\n",
              "    <g>\n",
              "        <path d=\"M19 3H5c-1.1 0-2 .9-2 2v14c0 1.1.9 2 2 2h14c1.1 0 2-.9 2-2V5c0-1.1-.9-2-2-2zM9 17H7v-7h2v7zm4 0h-2V7h2v10zm4 0h-2v-4h2v4z\"/>\n",
              "    </g>\n",
              "</svg>\n",
              "  </button>\n",
              "\n",
              "<style>\n",
              "  .colab-df-quickchart {\n",
              "      --bg-color: #E8F0FE;\n",
              "      --fill-color: #1967D2;\n",
              "      --hover-bg-color: #E2EBFA;\n",
              "      --hover-fill-color: #174EA6;\n",
              "      --disabled-fill-color: #AAA;\n",
              "      --disabled-bg-color: #DDD;\n",
              "  }\n",
              "\n",
              "  [theme=dark] .colab-df-quickchart {\n",
              "      --bg-color: #3B4455;\n",
              "      --fill-color: #D2E3FC;\n",
              "      --hover-bg-color: #434B5C;\n",
              "      --hover-fill-color: #FFFFFF;\n",
              "      --disabled-bg-color: #3B4455;\n",
              "      --disabled-fill-color: #666;\n",
              "  }\n",
              "\n",
              "  .colab-df-quickchart {\n",
              "    background-color: var(--bg-color);\n",
              "    border: none;\n",
              "    border-radius: 50%;\n",
              "    cursor: pointer;\n",
              "    display: none;\n",
              "    fill: var(--fill-color);\n",
              "    height: 32px;\n",
              "    padding: 0;\n",
              "    width: 32px;\n",
              "  }\n",
              "\n",
              "  .colab-df-quickchart:hover {\n",
              "    background-color: var(--hover-bg-color);\n",
              "    box-shadow: 0 1px 2px rgba(60, 64, 67, 0.3), 0 1px 3px 1px rgba(60, 64, 67, 0.15);\n",
              "    fill: var(--button-hover-fill-color);\n",
              "  }\n",
              "\n",
              "  .colab-df-quickchart-complete:disabled,\n",
              "  .colab-df-quickchart-complete:disabled:hover {\n",
              "    background-color: var(--disabled-bg-color);\n",
              "    fill: var(--disabled-fill-color);\n",
              "    box-shadow: none;\n",
              "  }\n",
              "\n",
              "  .colab-df-spinner {\n",
              "    border: 2px solid var(--fill-color);\n",
              "    border-color: transparent;\n",
              "    border-bottom-color: var(--fill-color);\n",
              "    animation:\n",
              "      spin 1s steps(1) infinite;\n",
              "  }\n",
              "\n",
              "  @keyframes spin {\n",
              "    0% {\n",
              "      border-color: transparent;\n",
              "      border-bottom-color: var(--fill-color);\n",
              "      border-left-color: var(--fill-color);\n",
              "    }\n",
              "    20% {\n",
              "      border-color: transparent;\n",
              "      border-left-color: var(--fill-color);\n",
              "      border-top-color: var(--fill-color);\n",
              "    }\n",
              "    30% {\n",
              "      border-color: transparent;\n",
              "      border-left-color: var(--fill-color);\n",
              "      border-top-color: var(--fill-color);\n",
              "      border-right-color: var(--fill-color);\n",
              "    }\n",
              "    40% {\n",
              "      border-color: transparent;\n",
              "      border-right-color: var(--fill-color);\n",
              "      border-top-color: var(--fill-color);\n",
              "    }\n",
              "    60% {\n",
              "      border-color: transparent;\n",
              "      border-right-color: var(--fill-color);\n",
              "    }\n",
              "    80% {\n",
              "      border-color: transparent;\n",
              "      border-right-color: var(--fill-color);\n",
              "      border-bottom-color: var(--fill-color);\n",
              "    }\n",
              "    90% {\n",
              "      border-color: transparent;\n",
              "      border-bottom-color: var(--fill-color);\n",
              "    }\n",
              "  }\n",
              "</style>\n",
              "\n",
              "  <script>\n",
              "    async function quickchart(key) {\n",
              "      const quickchartButtonEl =\n",
              "        document.querySelector('#' + key + ' button');\n",
              "      quickchartButtonEl.disabled = true;  // To prevent multiple clicks.\n",
              "      quickchartButtonEl.classList.add('colab-df-spinner');\n",
              "      try {\n",
              "        const charts = await google.colab.kernel.invokeFunction(\n",
              "            'suggestCharts', [key], {});\n",
              "      } catch (error) {\n",
              "        console.error('Error during call to suggestCharts:', error);\n",
              "      }\n",
              "      quickchartButtonEl.classList.remove('colab-df-spinner');\n",
              "      quickchartButtonEl.classList.add('colab-df-quickchart-complete');\n",
              "    }\n",
              "    (() => {\n",
              "      let quickchartButtonEl =\n",
              "        document.querySelector('#df-168c2cc1-530d-4e4e-afb7-44ff12e7b70b button');\n",
              "      quickchartButtonEl.style.display =\n",
              "        google.colab.kernel.accessAllowed ? 'block' : 'none';\n",
              "    })();\n",
              "  </script>\n",
              "</div>\n",
              "\n",
              "    </div>\n",
              "  </div>\n"
            ],
            "text/plain": [
              "       Cloud Cover  Season  Location  Temperature  Humidity  Wind Speed  \\\n",
              "7017           2.0     3.0       1.0    -1.617860 -0.233285    0.530916   \n",
              "12278          2.0     3.0       1.0    -1.272748  1.252343   -0.265211   \n",
              "2859           3.0     1.0       0.0    -0.122375  0.162883   -0.771838   \n",
              "5495           1.0     3.0       0.0    -1.675379 -1.916996   -0.048086   \n",
              "8469           2.0     0.0       0.0     0.165218  0.261924    1.254668   \n",
              "\n",
              "       Precipitation (%)  Atmospheric Pressure  UV Index  Visibility (km)  \n",
              "7017            1.106753             -0.222535 -0.779410        -0.730539  \n",
              "12278          -0.114082             -0.489215 -0.779410        -0.433923  \n",
              "2859           -0.708848              0.107858 -0.520104        -0.137308  \n",
              "5495            0.105042              4.062890  2.072951        -1.175461  \n",
              "8469            1.638913             -0.422007  1.295035        -1.472077  "
            ]
          },
          "execution_count": 36,
          "metadata": {},
          "output_type": "execute_result"
        }
      ],
      "source": [
        "X_train.head()"
      ]
    },
    {
      "cell_type": "markdown",
      "metadata": {
        "id": "upeKo2UVs8WH"
      },
      "source": [
        "# Training and Testing\n",
        "Use any suitable classifier to fit the training data and check the accuracy on test data\n",
        "\n",
        "Don't forget to import that library"
      ]
    },
    {
      "cell_type": "markdown",
      "metadata": {
        "id": "amPA5lMY3adM"
      },
      "source": [
        "**CODE**\n",
        "\n",
        "ACCURACY should be more than 90%,\n",
        "\n",
        "1. Fit the model to X_train and y_train\n",
        "2. Find the model score on X_test and y_test"
      ]
    },
    {
      "cell_type": "code",
      "execution_count": 37,
      "metadata": {
        "colab": {
          "base_uri": "https://localhost:8080/"
        },
        "id": "yei6MWgW0Si9",
        "outputId": "f489e0f7-3500-4c5d-8544-19f7a33b3754"
      },
      "outputs": [
        {
          "name": "stdout",
          "output_type": "stream",
          "text": [
            "Accuracy: 91.21212121212122\n"
          ]
        }
      ],
      "source": [
        "# START CODE HERE\n",
        "\n",
        "from sklearn.ensemble import RandomForestClassifier\n",
        "\n",
        "model = RandomForestClassifier(random_state=10)\n",
        "model.fit(X_train,y_train)\n",
        "score = model.score(X_test,y_test)\n",
        "\n",
        "# END CODE HERE\n",
        "\n",
        "print(\"Accuracy:\", score*100)"
      ]
    },
    {
      "cell_type": "markdown",
      "metadata": {
        "id": "gv0LHa5FuDSU"
      },
      "source": [
        "**TEST** (DON'T EDIT THIS CELL)"
      ]
    },
    {
      "cell_type": "code",
      "execution_count": 38,
      "metadata": {
        "colab": {
          "base_uri": "https://localhost:8080/"
        },
        "id": "WYopYL5MuAam",
        "outputId": "a64f9549-bef4-43aa-a7e5-1e0e46e62346"
      },
      "outputs": [
        {
          "name": "stdout",
          "output_type": "stream",
          "text": [
            "\u001b[32mTest Passed\u001b[0m\n"
          ]
        }
      ],
      "source": [
        "# DON'T EDIT THIS CELL\n",
        "\n",
        "if (score>0.90):\n",
        "  print(f\"\\033[32mTest Passed\\033[0m\")\n",
        "else:\n",
        "  print(f\"\\033[31mTest Failed\\033[0m\")"
      ]
    },
    {
      "cell_type": "markdown",
      "metadata": {
        "id": "pOnUEVEsuQlA"
      },
      "source": [
        "# Predicting Output (Here, Weather Type) (Optional)"
      ]
    },
    {
      "cell_type": "code",
      "execution_count": null,
      "metadata": {
        "id": "oAvmODuFwDNl"
      },
      "outputs": [],
      "source": [
        "input = X_test.head()\n",
        "input"
      ]
    },
    {
      "cell_type": "code",
      "execution_count": null,
      "metadata": {
        "id": "jZAkEyqUONIc"
      },
      "outputs": [],
      "source": [
        "y = model.predict(input)\n",
        "y"
      ]
    },
    {
      "cell_type": "markdown",
      "metadata": {
        "id": "zuNM1UNPyY7p"
      },
      "source": [
        "Here, the outputs are in numbers. We can perform inverse column transfer for getiing the string values.\n"
      ]
    }
  ],
  "metadata": {
    "colab": {
      "provenance": []
    },
    "kernelspec": {
      "display_name": "Python 3",
      "name": "python3"
    },
    "language_info": {
      "name": "python",
      "version": "3.12.1"
    }
  },
  "nbformat": 4,
  "nbformat_minor": 0
}
