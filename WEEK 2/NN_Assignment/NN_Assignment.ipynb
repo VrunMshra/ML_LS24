{
  "nbformat": 4,
  "nbformat_minor": 0,
  "metadata": {
    "colab": {
      "provenance": [],
      "gpuType": "T4"
    },
    "kernelspec": {
      "name": "python3",
      "display_name": "Python 3"
    },
    "language_info": {
      "name": "python"
    },
    "accelerator": "GPU"
  },
  "cells": [
    {
      "cell_type": "code",
      "execution_count": 25,
      "metadata": {
        "id": "C2MWazxUZaHE"
      },
      "outputs": [],
      "source": [
        "import tensorflow as tf\n",
        "from tensorflow.keras.layers import Dense,Flatten\n",
        "from tensorflow.keras import Input"
      ]
    },
    {
      "cell_type": "code",
      "source": [
        "dataset = tf.keras.preprocessing.image_dataset_from_directory(\"/content/drive/MyDrive/homer_bart\",image_size=(64, 64),label_mode = \"binary\")"
      ],
      "metadata": {
        "colab": {
          "base_uri": "https://localhost:8080/"
        },
        "id": "sedqnefEaRl-",
        "outputId": "ecb95198-8be8-4e6e-ebbf-e39c105fa4d1"
      },
      "execution_count": 26,
      "outputs": [
        {
          "output_type": "stream",
          "name": "stdout",
          "text": [
            "Found 269 files belonging to 2 classes.\n"
          ]
        }
      ]
    },
    {
      "cell_type": "code",
      "source": [
        "train_data = dataset.take(8)\n",
        "test_data = dataset.skip(8)\n",
        "train_data = train_data.cache().shuffle(1000).prefetch(buffer_size=tf.data.AUTOTUNE)\n",
        "test_data = test_data.cache().shuffle(1000).prefetch(buffer_size=tf.data.AUTOTUNE)"
      ],
      "metadata": {
        "id": "3CsVDTndbZwk"
      },
      "execution_count": 27,
      "outputs": []
    },
    {
      "cell_type": "code",
      "source": [
        "preprocess = tf.keras.Sequential(\n",
        "    [tf.keras.layers.Rescaling(1./255)] # rescaling factor\n",
        ")\n",
        "model = tf.keras.Sequential()\n",
        "model.add(Input((64,64,3)))\n",
        "model.add(Flatten())\n",
        "model.add(preprocess)\n",
        "model.add(Dense(128, activation='relu'))\n",
        "model.add(Dense(64, activation='relu'))\n",
        "model.add(Dense(32, activation='relu'))\n",
        "model.add(Dense(1, activation='sigmoid'))"
      ],
      "metadata": {
        "id": "aKmd-a3AbbLj"
      },
      "execution_count": 28,
      "outputs": []
    },
    {
      "cell_type": "code",
      "source": [
        "model.compile(optimizer='adam',\n",
        "              loss = tf.keras.losses.BinaryCrossentropy(from_logits=True), # use tf.keras.losses._______(from_logits = False)\n",
        "              metrics = ['accuracy'])"
      ],
      "metadata": {
        "id": "CSgPYkNTblJV"
      },
      "execution_count": 29,
      "outputs": []
    },
    {
      "cell_type": "code",
      "source": [
        "model.fit(train_data,\n",
        "          epochs = 10,\n",
        "          batch_size = 32,\n",
        "          verbose=1,\n",
        "          validation_data = test_data)"
      ],
      "metadata": {
        "colab": {
          "base_uri": "https://localhost:8080/"
        },
        "id": "cCFTu2nbbrA2",
        "outputId": "3db981a3-c23b-4cf0-c48d-50c3d26d36af"
      },
      "execution_count": 30,
      "outputs": [
        {
          "output_type": "stream",
          "name": "stdout",
          "text": [
            "Epoch 1/10\n"
          ]
        },
        {
          "output_type": "stream",
          "name": "stderr",
          "text": [
            "/usr/local/lib/python3.10/dist-packages/keras/src/backend.py:5818: UserWarning: \"`binary_crossentropy` received `from_logits=True`, but the `output` argument was produced by a Sigmoid activation and thus does not represent logits. Was this intended?\n",
            "  output, from_logits = _get_logits(\n"
          ]
        },
        {
          "output_type": "stream",
          "name": "stdout",
          "text": [
            "8/8 [==============================] - 4s 144ms/step - loss: 2.2309 - accuracy: 0.5508 - val_loss: 2.6436 - val_accuracy: 0.5385\n",
            "Epoch 2/10\n",
            "8/8 [==============================] - 0s 5ms/step - loss: 1.9269 - accuracy: 0.5000 - val_loss: 0.7614 - val_accuracy: 0.5385\n",
            "Epoch 3/10\n",
            "8/8 [==============================] - 0s 5ms/step - loss: 0.7871 - accuracy: 0.5742 - val_loss: 0.5127 - val_accuracy: 0.7692\n",
            "Epoch 4/10\n",
            "8/8 [==============================] - 0s 5ms/step - loss: 0.5379 - accuracy: 0.7344 - val_loss: 0.5647 - val_accuracy: 0.7692\n",
            "Epoch 5/10\n",
            "8/8 [==============================] - 0s 6ms/step - loss: 0.5165 - accuracy: 0.7461 - val_loss: 0.5865 - val_accuracy: 0.7692\n",
            "Epoch 6/10\n",
            "8/8 [==============================] - 0s 5ms/step - loss: 0.5077 - accuracy: 0.7539 - val_loss: 0.4084 - val_accuracy: 0.9231\n",
            "Epoch 7/10\n",
            "8/8 [==============================] - 0s 8ms/step - loss: 0.4539 - accuracy: 0.7969 - val_loss: 0.3772 - val_accuracy: 0.9231\n",
            "Epoch 8/10\n",
            "8/8 [==============================] - 0s 7ms/step - loss: 0.4209 - accuracy: 0.8086 - val_loss: 0.4599 - val_accuracy: 0.7692\n",
            "Epoch 9/10\n",
            "8/8 [==============================] - 0s 5ms/step - loss: 0.4152 - accuracy: 0.8008 - val_loss: 0.3500 - val_accuracy: 0.9231\n",
            "Epoch 10/10\n",
            "8/8 [==============================] - 0s 5ms/step - loss: 0.4541 - accuracy: 0.7734 - val_loss: 0.3056 - val_accuracy: 0.9231\n"
          ]
        },
        {
          "output_type": "execute_result",
          "data": {
            "text/plain": [
              "<keras.src.callbacks.History at 0x79ba4a115ba0>"
            ]
          },
          "metadata": {},
          "execution_count": 30
        }
      ]
    },
    {
      "cell_type": "code",
      "source": [
        "test_loss, test_acc = model.evaluate(test_data)\n",
        "print(f'Test accuracy: {test_acc*100:.4f}')"
      ],
      "metadata": {
        "colab": {
          "base_uri": "https://localhost:8080/"
        },
        "id": "b_L_Cir6fFrJ",
        "outputId": "01538aa7-34ee-474a-8417-7cd2ca828902"
      },
      "execution_count": 31,
      "outputs": [
        {
          "output_type": "stream",
          "name": "stdout",
          "text": [
            "1/1 [==============================] - 0s 13ms/step - loss: 0.3056 - accuracy: 0.9231\n",
            "Test accuracy: 92.3077\n"
          ]
        }
      ]
    }
  ]
}